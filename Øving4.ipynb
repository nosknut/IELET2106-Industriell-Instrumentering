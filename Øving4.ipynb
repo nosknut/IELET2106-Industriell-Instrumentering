{
 "cells": [
  {
   "cell_type": "code",
   "execution_count": 1,
   "metadata": {},
   "outputs": [],
   "source": [
    "import sympy as sp"
   ]
  },
  {
   "cell_type": "markdown",
   "metadata": {},
   "source": [
    "# 3"
   ]
  },
  {
   "cell_type": "markdown",
   "metadata": {},
   "source": [
    "## b"
   ]
  },
  {
   "cell_type": "code",
   "execution_count": 2,
   "metadata": {},
   "outputs": [],
   "source": [
    "R0, R1, R2, R3, Rt, Vi = sp.symbols('R0 R1 R2 R3 Rt Vi')\n",
    "\n",
    "Rth1 = 1/(1/R1+1/R3)\n",
    "Rth2 = 1/(1/R2+1/Rt)\n",
    "Vth1 = Vi*(R3/(R1+R3))\n",
    "Vth2 = Vi*(Rt/(R2+Rt))\n",
    "I = (Vth1 - Vth2)/(Rth1 + Rth2 + R0)\n",
    "Vo = R0*I"
   ]
  },
  {
   "cell_type": "code",
   "execution_count": 3,
   "metadata": {},
   "outputs": [
    {
     "data": {
      "text/latex": [
       "$\\displaystyle \\frac{1}{\\frac{1}{R_{3}} + \\frac{1}{R_{1}}}$"
      ],
      "text/plain": [
       "1/(1/R3 + 1/R1)"
      ]
     },
     "execution_count": 3,
     "metadata": {},
     "output_type": "execute_result"
    }
   ],
   "source": [
    "Rth1"
   ]
  },
  {
   "cell_type": "code",
   "execution_count": 4,
   "metadata": {},
   "outputs": [
    {
     "data": {
      "text/latex": [
       "$\\displaystyle \\frac{1}{\\frac{1}{Rt} + \\frac{1}{R_{2}}}$"
      ],
      "text/plain": [
       "1/(1/Rt + 1/R2)"
      ]
     },
     "execution_count": 4,
     "metadata": {},
     "output_type": "execute_result"
    }
   ],
   "source": [
    "Rth2"
   ]
  },
  {
   "cell_type": "code",
   "execution_count": 5,
   "metadata": {},
   "outputs": [
    {
     "data": {
      "text/latex": [
       "$\\displaystyle \\frac{R_{3} Vi}{R_{1} + R_{3}}$"
      ],
      "text/plain": [
       "R3*Vi/(R1 + R3)"
      ]
     },
     "execution_count": 5,
     "metadata": {},
     "output_type": "execute_result"
    }
   ],
   "source": [
    "Vth1"
   ]
  },
  {
   "cell_type": "code",
   "execution_count": 6,
   "metadata": {},
   "outputs": [
    {
     "data": {
      "text/latex": [
       "$\\displaystyle \\frac{Rt Vi}{R_{2} + Rt}$"
      ],
      "text/plain": [
       "Rt*Vi/(R2 + Rt)"
      ]
     },
     "execution_count": 6,
     "metadata": {},
     "output_type": "execute_result"
    }
   ],
   "source": [
    "Vth2"
   ]
  },
  {
   "cell_type": "code",
   "execution_count": 7,
   "metadata": {},
   "outputs": [
    {
     "data": {
      "text/latex": [
       "$\\displaystyle \\frac{\\frac{R_{3} Vi}{R_{1} + R_{3}} - \\frac{Rt Vi}{R_{2} + Rt}}{R_{0} + \\frac{1}{\\frac{1}{Rt} + \\frac{1}{R_{2}}} + \\frac{1}{\\frac{1}{R_{3}} + \\frac{1}{R_{1}}}}$"
      ],
      "text/plain": [
       "(R3*Vi/(R1 + R3) - Rt*Vi/(R2 + Rt))/(R0 + 1/(1/Rt + 1/R2) + 1/(1/R3 + 1/R1))"
      ]
     },
     "execution_count": 7,
     "metadata": {},
     "output_type": "execute_result"
    }
   ],
   "source": [
    "I"
   ]
  },
  {
   "cell_type": "code",
   "execution_count": 8,
   "metadata": {},
   "outputs": [
    {
     "data": {
      "text/latex": [
       "$\\displaystyle \\frac{R_{0} \\left(\\frac{R_{3} Vi}{R_{1} + R_{3}} - \\frac{Rt Vi}{R_{2} + Rt}\\right)}{R_{0} + \\frac{1}{\\frac{1}{Rt} + \\frac{1}{R_{2}}} + \\frac{1}{\\frac{1}{R_{3}} + \\frac{1}{R_{1}}}}$"
      ],
      "text/plain": [
       "R0*(R3*Vi/(R1 + R3) - Rt*Vi/(R2 + Rt))/(R0 + 1/(1/Rt + 1/R2) + 1/(1/R3 + 1/R1))"
      ]
     },
     "execution_count": 8,
     "metadata": {},
     "output_type": "execute_result"
    }
   ],
   "source": [
    "Vo"
   ]
  },
  {
   "cell_type": "code",
   "execution_count": 9,
   "metadata": {},
   "outputs": [],
   "source": [
    "Vo_Rt = Vo.subs({R0: 1000, R1: 0.29e3, R2: 1.22e3, R3: 1e3, Vi: 2.56})"
   ]
  },
  {
   "cell_type": "code",
   "execution_count": 10,
   "metadata": {},
   "outputs": [
    {
     "data": {
      "text/latex": [
       "$\\displaystyle \\frac{1000 \\left(- \\frac{2.56 Rt}{Rt + 1220.0} + 1.98449612403101\\right)}{1224.80620155039 + \\frac{1}{0.000819672131147541 + \\frac{1}{Rt}}}$"
      ],
      "text/plain": [
       "1000*(-2.56*Rt/(Rt + 1220.0) + 1.98449612403101)/(1224.80620155039 + 1/(0.000819672131147541 + 1/Rt))"
      ]
     },
     "execution_count": 10,
     "metadata": {},
     "output_type": "execute_result"
    }
   ],
   "source": [
    "Vo_Rt"
   ]
  },
  {
   "cell_type": "code",
   "execution_count": 11,
   "metadata": {},
   "outputs": [
    {
     "data": {
      "text/latex": [
       "$\\displaystyle -0.00256620087447659$"
      ],
      "text/plain": [
       "-0.00256620087447659"
      ]
     },
     "execution_count": 11,
     "metadata": {},
     "output_type": "execute_result"
    }
   ],
   "source": [
    "Vo_Rt.subs({Rt: 4.26e3})"
   ]
  },
  {
   "cell_type": "code",
   "execution_count": 12,
   "metadata": {},
   "outputs": [
    {
     "data": {
      "text/latex": [
       "$\\displaystyle 0.593554440660922$"
      ],
      "text/plain": [
       "0.593554440660922"
      ]
     },
     "execution_count": 12,
     "metadata": {},
     "output_type": "execute_result"
    }
   ],
   "source": [
    "Vo_Rt.subs({Rt: 757})"
   ]
  },
  {
   "cell_type": "code",
   "execution_count": null,
   "metadata": {},
   "outputs": [],
   "source": []
  }
 ],
 "metadata": {
  "kernelspec": {
   "display_name": "Python 3",
   "language": "python",
   "name": "python3"
  },
  "language_info": {
   "codemirror_mode": {
    "name": "ipython",
    "version": 3
   },
   "file_extension": ".py",
   "mimetype": "text/x-python",
   "name": "python",
   "nbconvert_exporter": "python",
   "pygments_lexer": "ipython3",
   "version": "3.10.11"
  }
 },
 "nbformat": 4,
 "nbformat_minor": 2
}
